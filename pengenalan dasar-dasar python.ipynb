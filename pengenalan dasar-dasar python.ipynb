{
 "cells": [
  {
   "cell_type": "markdown",
   "metadata": {},
   "source": [
    "# Pengenalan Dasar-Dasar Python\n",
    "\n",
    "Hi Saya Suwarti.. Disini saya akan coba sedikit sharing tentang Pengenalan Dasar-Dasar Python.."
   ]
  },
  {
   "cell_type": "code",
   "execution_count": 1,
   "metadata": {},
   "outputs": [
    {
     "name": "stdout",
     "output_type": "stream",
     "text": [
      "Halo Dunia\n"
     ]
    }
   ],
   "source": [
    "#tulis print dengan huruf kecil\n",
    "\n",
    "print(\"Halo Dunia\")"
   ]
  },
  {
   "cell_type": "markdown",
   "metadata": {},
   "source": [
    "# Operasi Aritmatika"
   ]
  },
  {
   "cell_type": "code",
   "execution_count": 2,
   "metadata": {},
   "outputs": [
    {
     "data": {
      "text/plain": [
       "10"
      ]
     },
     "execution_count": 2,
     "metadata": {},
     "output_type": "execute_result"
    }
   ],
   "source": [
    "#operasi aritmatika\n",
    "#contoh: 5 ditambah 5 sama dengan 10\n",
    "#+ : lambang tambah\n",
    "\n",
    "5+5"
   ]
  },
  {
   "cell_type": "code",
   "execution_count": 3,
   "metadata": {},
   "outputs": [
    {
     "data": {
      "text/plain": [
       "25"
      ]
     },
     "execution_count": 3,
     "metadata": {},
     "output_type": "execute_result"
    }
   ],
   "source": [
    "#operasi aritmatika\n",
    "#contoh: 5 pangkat 2 sama dengan dua puluh lima\n",
    "# ** : lambang pangkat\n",
    "\n",
    "5**2"
   ]
  },
  {
   "cell_type": "code",
   "execution_count": 4,
   "metadata": {},
   "outputs": [
    {
     "data": {
      "text/plain": [
       "50"
      ]
     },
     "execution_count": 4,
     "metadata": {},
     "output_type": "execute_result"
    }
   ],
   "source": [
    "#operasi aritmatika\n",
    "#contoh: 2 dikali (5 pangkat 2) sama dengan lima puluh\n",
    "#bahasa python akan membaca sesuai urutan kaidah matematika\n",
    "#dalam contoh ini, meskipun kita tulis syntax perkalin terlebih dahulu\n",
    "#tetapi python akan menghitung operasi pangkat terlebih dahulu kemudian berlanjut ke operasi perkalian\n",
    "# * : lambang perkalian\n",
    "# ** : lambang pangkat\n",
    "\n",
    "2*5**2"
   ]
  },
  {
   "cell_type": "code",
   "execution_count": 5,
   "metadata": {},
   "outputs": [
    {
     "data": {
      "text/plain": [
       "2.75"
      ]
     },
     "execution_count": 5,
     "metadata": {},
     "output_type": "execute_result"
    }
   ],
   "source": [
    "#operasi aritmatika\n",
    "#contoh: 11 dibagi 4 sama dengan dua koma tujuh puluh lima\n",
    "# / : lambang pembagian\n",
    "\n",
    "11/4"
   ]
  },
  {
   "cell_type": "code",
   "execution_count": 6,
   "metadata": {},
   "outputs": [
    {
     "data": {
      "text/plain": [
       "2"
      ]
     },
     "execution_count": 6,
     "metadata": {},
     "output_type": "execute_result"
    }
   ],
   "source": [
    "#operasi aritmatika\n",
    "# // : lambang floor division \n",
    "#floor division adalah menampilkan bilangan bulatnya saja dari hasil pembagian\n",
    "#contoh: 11 floor division 4 sama dengan dua \n",
    "\n",
    "11//4"
   ]
  },
  {
   "cell_type": "code",
   "execution_count": 7,
   "metadata": {},
   "outputs": [
    {
     "data": {
      "text/plain": [
       "3"
      ]
     },
     "execution_count": 7,
     "metadata": {},
     "output_type": "execute_result"
    }
   ],
   "source": [
    "#operasi aritmatika\n",
    "# % : lambang modulus\n",
    "#modulus adalah menampilkan sisa pembagian\n",
    "#contoh: 11 modulus 4 sama dengan tiga\n",
    "\n",
    "11%4"
   ]
  },
  {
   "cell_type": "markdown",
   "metadata": {},
   "source": [
    "# Strings"
   ]
  },
  {
   "cell_type": "code",
   "execution_count": 8,
   "metadata": {},
   "outputs": [
    {
     "data": {
      "text/plain": [
       "'apa kabar?'"
      ]
     },
     "execution_count": 8,
     "metadata": {},
     "output_type": "execute_result"
    }
   ],
   "source": [
    "#strings\n",
    "#strings adalah kumpulan dari karakter\n",
    "#gunakan tanda kutip untuk mendefinisikan string\n",
    "#boleh kutip double atau boleh kutip single\n",
    "#dengan catatan kutip pembuka dan kutip penutup harus sama\n",
    "# \" : lambang kutip double\n",
    "#contoh: \"apa kabar?\"\n",
    "\n",
    "\"apa kabar?\""
   ]
  },
  {
   "cell_type": "code",
   "execution_count": 9,
   "metadata": {},
   "outputs": [
    {
     "data": {
      "text/plain": [
       "'apa kabar?'"
      ]
     },
     "execution_count": 9,
     "metadata": {},
     "output_type": "execute_result"
    }
   ],
   "source": [
    "#strings\n",
    "# ' : lambang kutip single\n",
    "#contoh: 'apa kabar?'\n",
    "\n",
    "'apa kabar?'"
   ]
  },
  {
   "cell_type": "code",
   "execution_count": 10,
   "metadata": {},
   "outputs": [
    {
     "data": {
      "text/plain": [
       "'balonku ada lima.\\nrupa-rupa warnanya. hijau, kuning, kelabu, merah muda, dan biru. \\nmeletus balon hijau, darr. hatiku sangat kacau.\\nbalonku tinggal empat. ku pegang erat-erat.'"
      ]
     },
     "execution_count": 10,
     "metadata": {},
     "output_type": "execute_result"
    }
   ],
   "source": [
    "#strings\n",
    "# \"\"\" : lambang triple quotes\n",
    "#triple quotes digunakan untuk string yang lebih dari satu baris\n",
    "#adapun output berupa backslash n adalah merupakan lambang baris baru\n",
    "# \\n : lambang baris baru\n",
    "\n",
    "#contoh: \"\"\" balonku ada lima. rupa-rupa warnanya. hijau, kuning, kelabu, merah muda, dan biru. meletus balon hijau, darr. hatiku sangat kacau. balonku tinggal empat. ku pegang erat-erat. \"\"\"\n",
    "\n",
    "\"\"\"balonku ada lima.\n",
    "rupa-rupa warnanya. hijau, kuning, kelabu, merah muda, dan biru. \n",
    "meletus balon hijau, darr. hatiku sangat kacau.\n",
    "balonku tinggal empat. ku pegang erat-erat.\"\"\""
   ]
  },
  {
   "cell_type": "code",
   "execution_count": 11,
   "metadata": {},
   "outputs": [
    {
     "data": {
      "text/plain": [
       "'apa kabar'"
      ]
     },
     "execution_count": 11,
     "metadata": {},
     "output_type": "execute_result"
    }
   ],
   "source": [
    "#strings\n",
    "#perbedaan menggunakan keyword print dan tidak menggunakan keyword print\n",
    "#print itu keyword bahasa python untuk menampilkan sesuatu\n",
    "#bila tidak menggunakan keyword print maka mesin hanya akan membaca baris yang terakhir\n",
    "#contoh: bila kita tulis tanpa print\n",
    "#\"halo\" kemudian tulis di baris baru \"apa kabar?\"\n",
    "#maka output nya hanya akan muncul baris terakhir yaitu \"apa kabar?\"\n",
    "\n",
    "\"halo\"\n",
    "\"apa kabar\""
   ]
  },
  {
   "cell_type": "code",
   "execution_count": 12,
   "metadata": {},
   "outputs": [
    {
     "name": "stdout",
     "output_type": "stream",
     "text": [
      "halo\n",
      "apa kabar\n"
     ]
    }
   ],
   "source": [
    "#contoh: bila kita tulis menggunkan print\n",
    "#print(\"halo\") kemudian tulis di baris baru print(\"apa kabar?\")\n",
    "#maka output nya akan muncul tulisan dari semua baris \n",
    "\n",
    "print(\"halo\")\n",
    "print(\"apa kabar\")"
   ]
  },
  {
   "cell_type": "code",
   "execution_count": 13,
   "metadata": {},
   "outputs": [
    {
     "name": "stdout",
     "output_type": "stream",
     "text": [
      "'\n"
     ]
    }
   ],
   "source": [
    "# \\ : lambang slash untuk menampilkan escape karakter \n",
    "#contoh: untuk menampikan kutip single\n",
    "\n",
    "print(\"\\'\")"
   ]
  },
  {
   "cell_type": "code",
   "execution_count": 14,
   "metadata": {},
   "outputs": [
    {
     "name": "stdout",
     "output_type": "stream",
     "text": [
      "\\\n"
     ]
    }
   ],
   "source": [
    "# \\ : lambang slash untuk menampilkan escape karakter \n",
    "#contoh: untuk menampikan lambang backslash\n",
    "\n",
    "print(\"\\\\\")"
   ]
  },
  {
   "cell_type": "markdown",
   "metadata": {},
   "source": [
    "# Operasi Strings"
   ]
  },
  {
   "cell_type": "code",
   "execution_count": 15,
   "metadata": {},
   "outputs": [
    {
     "data": {
      "text/plain": [
       "'powerpoint'"
      ]
     },
     "execution_count": 15,
     "metadata": {},
     "output_type": "execute_result"
    }
   ],
   "source": [
    "#operasi strings\n",
    "#operasi penjumlahan string disebut dengan istilah concat atau penggabungan\n",
    "#dengan catatan penjumlahan nya harus antara string dengan string\n",
    "\n",
    "\"power\" + \"point\""
   ]
  },
  {
   "cell_type": "code",
   "execution_count": 16,
   "metadata": {},
   "outputs": [
    {
     "data": {
      "text/plain": [
       "'53'"
      ]
     },
     "execution_count": 16,
     "metadata": {},
     "output_type": "execute_result"
    }
   ],
   "source": [
    "#operasi strings\n",
    "#contoh kita mau menulis '53'\n",
    "#tetapi '53' disini berupa string bukan berupa integer\n",
    "#ciri '53' disini berupa string adalah muncul nya tanda kutip\n",
    "\n",
    "'5'+'3'"
   ]
  },
  {
   "cell_type": "code",
   "execution_count": 17,
   "metadata": {},
   "outputs": [
    {
     "data": {
      "text/plain": [
       "str"
      ]
     },
     "execution_count": 17,
     "metadata": {},
     "output_type": "execute_result"
    }
   ],
   "source": [
    "#type: keyword yang digunakan untuk memeriksa type data\n",
    "#ketika kita periksa type data dari '53' maka akan muncul output str\n",
    "#str bermakna bahwa type data tersebut adalah string\n",
    "\n",
    "type('53')"
   ]
  },
  {
   "cell_type": "code",
   "execution_count": 19,
   "metadata": {},
   "outputs": [
    {
     "data": {
      "text/plain": [
       "'abuabu'"
      ]
     },
     "execution_count": 19,
     "metadata": {},
     "output_type": "execute_result"
    }
   ],
   "source": [
    "#operasi strings\n",
    "#operasi perkalian string dimana pengali nya itu harus berupa bilangan bulat atau integer\n",
    "#output perkalian string akan menampilkan teks sebanyak jumlah pengali nya\n",
    "\n",
    "\"abu\" * 2"
   ]
  },
  {
   "cell_type": "code",
   "execution_count": 20,
   "metadata": {},
   "outputs": [
    {
     "name": "stdout",
     "output_type": "stream",
     "text": [
      "siapa nama kamu? :nama saya suwarti\n"
     ]
    },
    {
     "data": {
      "text/plain": [
       "'nama saya suwarti'"
      ]
     },
     "execution_count": 20,
     "metadata": {},
     "output_type": "execute_result"
    }
   ],
   "source": [
    "#input adalah memasukkan sesuatu dari user\n",
    "\n",
    "input(\"siapa nama kamu? :\")"
   ]
  },
  {
   "cell_type": "markdown",
   "metadata": {},
   "source": [
    "# Variables"
   ]
  },
  {
   "cell_type": "code",
   "execution_count": 21,
   "metadata": {},
   "outputs": [
    {
     "name": "stdout",
     "output_type": "stream",
     "text": [
      "10.0\n"
     ]
    }
   ],
   "source": [
    "#variables\n",
    "#isi dari variable ini bisa berupa angka, string, atau boolean\n",
    "#notasi variabel bagian pertama tidak boleh berupa angka\n",
    "#misal 3x maka ini tidak boleh sebagai notasi variable karena akan menghasilkan output error\n",
    "#tetapi x3 ini boleh sebagai notasi variable\n",
    "#notasi variable juga tidak boleh menggunakan spasi\n",
    "#bila ingin memisahkan dua huruf variable maka bisa menggunakan underscore\n",
    "\n",
    "x1 = 2\n",
    "x2 = 3\n",
    "x3 = 5.0\n",
    "x4 = 'prima'\n",
    "x5 = True\n",
    "\n",
    "print(x1 + x2 +x3)"
   ]
  },
  {
   "cell_type": "code",
   "execution_count": 22,
   "metadata": {},
   "outputs": [
    {
     "data": {
      "text/plain": [
       "bool"
      ]
     },
     "execution_count": 22,
     "metadata": {},
     "output_type": "execute_result"
    }
   ],
   "source": [
    "#gunakan type untuk memeriksa type data\n",
    "\n",
    "type(x5)"
   ]
  },
  {
   "cell_type": "code",
   "execution_count": 23,
   "metadata": {},
   "outputs": [
    {
     "name": "stdout",
     "output_type": "stream",
     "text": [
      "masukan angka pertama :10\n",
      "masukan angka kedua :5\n",
      "105\n"
     ]
    }
   ],
   "source": [
    "#variable menggunakan input\n",
    "#catatan hasil dari input itu pasti berupa string\n",
    "#jika ingin menghasilkan berupa angka maka mesti menuliskan keyword angka nya\n",
    "\n",
    "angka_1 = input(\"masukan angka pertama :\")\n",
    "angka_2 = input(\"masukan angka kedua :\")\n",
    "\n",
    "print(angka_1 + angka_2)"
   ]
  },
  {
   "cell_type": "code",
   "execution_count": 24,
   "metadata": {},
   "outputs": [
    {
     "name": "stdout",
     "output_type": "stream",
     "text": [
      "masukan angka pertama :10\n",
      "masukan angka kedua :5\n",
      "15.0\n"
     ]
    }
   ],
   "source": [
    "#variable menggunakan input\n",
    "#jika ingin menghasilkan berupa angka maka mesti menuliskan keyword angka nya\n",
    "\n",
    "angka_1 = input(\"masukan angka pertama :\")\n",
    "angka_1 = int(angka_1)\n",
    "angka_2 = input(\"masukan angka kedua :\")\n",
    "angka_2 = float(angka_2)\n",
    "\n",
    "print(angka_1 + angka_2)"
   ]
  },
  {
   "cell_type": "markdown",
   "metadata": {},
   "source": [
    "# Dictionary "
   ]
  },
  {
   "cell_type": "code",
   "execution_count": 25,
   "metadata": {},
   "outputs": [],
   "source": [
    "#dictionary \n",
    "#dictionary itu untuk menyimpan lebih dari satu data (data majemuk) ke dalam sebuah variable\n",
    "#key adalah bagian sebelum tanda titik dua dan value adalah bagian setelah tanda titik dua\n",
    "\n",
    "my_dict = {'Nama':'Nam Do San', \n",
    "           'Usia': 17, \n",
    "           'Pekerjaan':'Developer',\n",
    "           'Alamat': {'Jalan':'Sandbox',\n",
    "                      'RT': '005',\n",
    "                      'RW':'031'}}"
   ]
  },
  {
   "cell_type": "code",
   "execution_count": 26,
   "metadata": {},
   "outputs": [
    {
     "data": {
      "text/plain": [
       "17"
      ]
     },
     "execution_count": 26,
     "metadata": {},
     "output_type": "execute_result"
    }
   ],
   "source": [
    "#gunakan key nya untuk memanggil value nya \n",
    "\n",
    "my_dict['Usia']"
   ]
  },
  {
   "cell_type": "code",
   "execution_count": 27,
   "metadata": {},
   "outputs": [
    {
     "data": {
      "text/plain": [
       "int"
      ]
     },
     "execution_count": 27,
     "metadata": {},
     "output_type": "execute_result"
    }
   ],
   "source": [
    "type(my_dict['Usia'])"
   ]
  },
  {
   "cell_type": "code",
   "execution_count": 28,
   "metadata": {},
   "outputs": [
    {
     "data": {
      "text/plain": [
       "'005'"
      ]
     },
     "execution_count": 28,
     "metadata": {},
     "output_type": "execute_result"
    }
   ],
   "source": [
    "my_dict['Alamat']['RT']"
   ]
  },
  {
   "cell_type": "markdown",
   "metadata": {},
   "source": [
    "# List"
   ]
  },
  {
   "cell_type": "code",
   "execution_count": null,
   "metadata": {},
   "outputs": [],
   "source": [
    "#list\n",
    "#list itu sama dengan dictionary tapi dia hanya menyimpan value nya saja\n",
    "#cara memanggil value dalam list ini dengan cara memanggil urutan nya\n",
    "#catatan bahwa indeks di python itu dimulai dari nol"
   ]
  },
  {
   "cell_type": "code",
   "execution_count": 29,
   "metadata": {},
   "outputs": [],
   "source": [
    "my_list = ['Nam Do San', 17, {'Pekerjaan':'Developer'}, [18,19,20]]"
   ]
  },
  {
   "cell_type": "code",
   "execution_count": 30,
   "metadata": {},
   "outputs": [
    {
     "name": "stdout",
     "output_type": "stream",
     "text": [
      "Nam Do San\n",
      "17\n",
      "{'Pekerjaan': 'Developer'}\n",
      "[18, 19, 20]\n"
     ]
    }
   ],
   "source": [
    "print(my_list[0])\n",
    "print(my_list[1])\n",
    "print(my_list[2])\n",
    "print(my_list[3])"
   ]
  },
  {
   "cell_type": "code",
   "execution_count": 31,
   "metadata": {},
   "outputs": [
    {
     "name": "stdout",
     "output_type": "stream",
     "text": [
      "18\n"
     ]
    }
   ],
   "source": [
    "print(my_list[3][0])"
   ]
  },
  {
   "cell_type": "code",
   "execution_count": 32,
   "metadata": {},
   "outputs": [
    {
     "name": "stdout",
     "output_type": "stream",
     "text": [
      "[18, 19, 20]\n"
     ]
    }
   ],
   "source": [
    "#gunakan indeks minus satu untuk memanggil value list dari urutan yg paling belakang\n",
    "\n",
    "print(my_list[-1])"
   ]
  },
  {
   "cell_type": "code",
   "execution_count": 33,
   "metadata": {},
   "outputs": [
    {
     "data": {
      "text/plain": [
       "4"
      ]
     },
     "execution_count": 33,
     "metadata": {},
     "output_type": "execute_result"
    }
   ],
   "source": [
    "#gunakan keyword len untuk mencari tahu jumlah elemen dalam list\n",
    "\n",
    "len(my_list)"
   ]
  },
  {
   "cell_type": "markdown",
   "metadata": {},
   "source": [
    "# Boolean"
   ]
  },
  {
   "cell_type": "code",
   "execution_count": 34,
   "metadata": {},
   "outputs": [
    {
     "data": {
      "text/plain": [
       "False"
      ]
     },
     "execution_count": 34,
     "metadata": {},
     "output_type": "execute_result"
    }
   ],
   "source": [
    "#operator perbandingan\n",
    "# == : lambang operator perbandingan\n",
    "#output berupa boolean\n",
    "#contoh: 2 == 3 dibaca 2 sama dengan 3 maka pernyataan tersebut salah\n",
    "\n",
    "2 == 3"
   ]
  },
  {
   "cell_type": "code",
   "execution_count": 35,
   "metadata": {},
   "outputs": [
    {
     "data": {
      "text/plain": [
       "False"
      ]
     },
     "execution_count": 35,
     "metadata": {},
     "output_type": "execute_result"
    }
   ],
   "source": [
    "#contoh: 2 > 5 dibaca 2 lebih besar dari 5 maka pernyataan tersebut salah\n",
    "\n",
    "2 > 5"
   ]
  },
  {
   "cell_type": "code",
   "execution_count": 36,
   "metadata": {},
   "outputs": [
    {
     "data": {
      "text/plain": [
       "True"
      ]
     },
     "execution_count": 36,
     "metadata": {},
     "output_type": "execute_result"
    }
   ],
   "source": [
    "#contoh: 2 <= 2 dibaca 2 kurang dari sama dengan 2 maka pernyataan tersebut benar\n",
    "\n",
    "2 <= 2"
   ]
  },
  {
   "cell_type": "code",
   "execution_count": null,
   "metadata": {},
   "outputs": [],
   "source": [
    "#catatan\n",
    "#lambang = tidak bermakna sama dengan lambang ==\n",
    "# = : lambang ini digunakan untuk memasukkan suatu nilai dalam sebuah variable\n",
    "## == : lambang ini digunakan untuk operator perbandingan"
   ]
  },
  {
   "cell_type": "markdown",
   "metadata": {},
   "source": [
    "# Boolean Logic"
   ]
  },
  {
   "cell_type": "code",
   "execution_count": null,
   "metadata": {},
   "outputs": [],
   "source": [
    "#Pernyataan Benar dan pernyataan Benar maka output nya pernyataan Benar\n",
    "#Pernyataan Benar dan pernyataan Salah maka output nya pernyataan Salah\n",
    "#Pernyataan Benar atau pernyataan Benar maka output nya pernyataan Benar\n",
    "#Pernyataan Benar atau pernyataan Salah maka output nya pernyataan Benar"
   ]
  },
  {
   "cell_type": "code",
   "execution_count": 37,
   "metadata": {},
   "outputs": [
    {
     "data": {
      "text/plain": [
       "True"
      ]
     },
     "execution_count": 37,
     "metadata": {},
     "output_type": "execute_result"
    }
   ],
   "source": [
    "1 == 1 and 2 == 2"
   ]
  },
  {
   "cell_type": "code",
   "execution_count": 38,
   "metadata": {},
   "outputs": [
    {
     "data": {
      "text/plain": [
       "False"
      ]
     },
     "execution_count": 38,
     "metadata": {},
     "output_type": "execute_result"
    }
   ],
   "source": [
    "1 == 1 and 2 == 1"
   ]
  },
  {
   "cell_type": "code",
   "execution_count": 39,
   "metadata": {},
   "outputs": [
    {
     "data": {
      "text/plain": [
       "True"
      ]
     },
     "execution_count": 39,
     "metadata": {},
     "output_type": "execute_result"
    }
   ],
   "source": [
    "1 == 1 or 2 == 2"
   ]
  },
  {
   "cell_type": "code",
   "execution_count": 40,
   "metadata": {},
   "outputs": [
    {
     "data": {
      "text/plain": [
       "True"
      ]
     },
     "execution_count": 40,
     "metadata": {},
     "output_type": "execute_result"
    }
   ],
   "source": [
    "1 == 1 or 2 == 1"
   ]
  },
  {
   "cell_type": "markdown",
   "metadata": {},
   "source": [
    "# If Statement"
   ]
  },
  {
   "cell_type": "code",
   "execution_count": null,
   "metadata": {},
   "outputs": [],
   "source": [
    "#bila ada dua kondisi maka cukup gunakan if dan else\n",
    "#namun bila ada lebih dari dua kondisi maka tambahkan dengan elif\n",
    "#penulisan statement yaitu dengan cara indentation menjorok ke dalam"
   ]
  },
  {
   "cell_type": "code",
   "execution_count": 41,
   "metadata": {},
   "outputs": [
    {
     "name": "stdout",
     "output_type": "stream",
     "text": [
      "a lebih kecil dari 3\n"
     ]
    }
   ],
   "source": [
    "a = 1\n",
    "if a > 3:\n",
    "    print(\"a lebih besar dari 3\") \n",
    "elif a == 3:\n",
    "    print(\"a sama dengan dari 3\") \n",
    "else:\n",
    "    print(\"a lebih kecil dari 3\")"
   ]
  },
  {
   "cell_type": "code",
   "execution_count": 42,
   "metadata": {},
   "outputs": [
    {
     "name": "stdout",
     "output_type": "stream",
     "text": [
      "a lebih besar dari 3\n"
     ]
    }
   ],
   "source": [
    "a = 5\n",
    "if a > 3:\n",
    "    print(\"a lebih besar dari 3\") \n",
    "elif a == 3:\n",
    "    print(\"a sama dengan dari 3\") \n",
    "else:\n",
    "    print(\"a lebih kecil dari 3\")"
   ]
  },
  {
   "cell_type": "code",
   "execution_count": 43,
   "metadata": {},
   "outputs": [
    {
     "name": "stdout",
     "output_type": "stream",
     "text": [
      "a sama dengan dari 3\n"
     ]
    }
   ],
   "source": [
    "a = 3\n",
    "if a > 3:\n",
    "    print(\"a lebih besar dari 3\") \n",
    "elif a == 3:\n",
    "    print(\"a sama dengan dari 3\") \n",
    "else:\n",
    "    print(\"a lebih kecil dari 3\")"
   ]
  },
  {
   "cell_type": "markdown",
   "metadata": {},
   "source": [
    "# While Loops"
   ]
  },
  {
   "cell_type": "code",
   "execution_count": 44,
   "metadata": {},
   "outputs": [
    {
     "name": "stdout",
     "output_type": "stream",
     "text": [
      "Bemain Game, Sisa nyawa:  5\n",
      "Kena Musuh\n",
      "Bemain Game, Sisa nyawa:  4\n",
      "Kena Musuh\n",
      "Bemain Game, Sisa nyawa:  3\n",
      "Kena Musuh\n",
      "Bemain Game, Sisa nyawa:  2\n",
      "Kena Musuh\n",
      "Bemain Game, Sisa nyawa:  1\n",
      "Kena Musuh\n",
      "Game Over\n"
     ]
    }
   ],
   "source": [
    "#contoh kasus bermain game\n",
    "\n",
    "nyawa = 5\n",
    "while nyawa > 0:\n",
    "    print(\"Bemain Game, Sisa nyawa: \", nyawa)\n",
    "    print(\"Kena Musuh\")\n",
    "    nyawa = nyawa - 1\n",
    "print(\"Game Over\")"
   ]
  },
  {
   "cell_type": "code",
   "execution_count": 45,
   "metadata": {},
   "outputs": [
    {
     "name": "stdout",
     "output_type": "stream",
     "text": [
      "1\n",
      "2\n"
     ]
    }
   ],
   "source": [
    "#break adalah memberhentikan secara paksa di kondisi tertentu\n",
    "\n",
    "i = 0\n",
    "while i < 10:\n",
    "    i = i + 1\n",
    "    if i == 3:\n",
    "        break\n",
    "    print(i)"
   ]
  },
  {
   "cell_type": "code",
   "execution_count": 46,
   "metadata": {},
   "outputs": [
    {
     "name": "stdout",
     "output_type": "stream",
     "text": [
      "1\n",
      "2\n",
      "4\n",
      "5\n",
      "6\n",
      "7\n",
      "8\n",
      "9\n",
      "10\n"
     ]
    }
   ],
   "source": [
    "#continue adalah menskip kondisi tertentu\n",
    "\n",
    "i = 0\n",
    "while i < 10:\n",
    "    i = i + 1\n",
    "    if i == 3:\n",
    "        continue\n",
    "    print(i)"
   ]
  },
  {
   "cell_type": "markdown",
   "metadata": {},
   "source": [
    "# For Loop"
   ]
  },
  {
   "cell_type": "code",
   "execution_count": null,
   "metadata": {},
   "outputs": [],
   "source": [
    "#for loop menggunakan tipe data majemuk"
   ]
  },
  {
   "cell_type": "code",
   "execution_count": 47,
   "metadata": {},
   "outputs": [
    {
     "name": "stdout",
     "output_type": "stream",
     "text": [
      "saya pesan Mie Ayam\n",
      "saya pesan Nasi Goreng\n",
      "saya pesan Es Teh\n"
     ]
    }
   ],
   "source": [
    "pesanan = ['Mie Ayam', 'Nasi Goreng', 'Es Teh']\n",
    "print(\"saya pesan\", pesanan[0])\n",
    "print(\"saya pesan\", pesanan[1])\n",
    "print(\"saya pesan\", pesanan[2])"
   ]
  },
  {
   "cell_type": "code",
   "execution_count": 48,
   "metadata": {},
   "outputs": [
    {
     "name": "stdout",
     "output_type": "stream",
     "text": [
      "saya pesan Mie Ayam\n",
      "saya pesan Nasi Goreng\n",
      "saya pesan Es Teh\n"
     ]
    }
   ],
   "source": [
    "i=0\n",
    "while i < len(pesanan):\n",
    "    print(\"saya pesan\", pesanan[i])\n",
    "    i=i+1"
   ]
  },
  {
   "cell_type": "code",
   "execution_count": 49,
   "metadata": {},
   "outputs": [
    {
     "name": "stdout",
     "output_type": "stream",
     "text": [
      "saya pesan Mie Ayam\n",
      "saya pesan Nasi Goreng\n",
      "saya pesan Es Teh\n"
     ]
    }
   ],
   "source": [
    "for item in pesanan:\n",
    "    print('saya pesan', item)"
   ]
  },
  {
   "cell_type": "markdown",
   "metadata": {},
   "source": [
    "# Functions"
   ]
  },
  {
   "cell_type": "code",
   "execution_count": 50,
   "metadata": {},
   "outputs": [
    {
     "name": "stdout",
     "output_type": "stream",
     "text": [
      "Halo Han Ji Pyeong, apa kabar?\n",
      "Halo Soe Dal Mi, apa kabar?\n",
      "Halo Suwarti, apa kabar?\n"
     ]
    }
   ],
   "source": [
    "print(\"Halo Han Ji Pyeong, apa kabar?\")\n",
    "print(\"Halo Soe Dal Mi, apa kabar?\")\n",
    "print(\"Halo Suwarti, apa kabar?\")"
   ]
  },
  {
   "cell_type": "code",
   "execution_count": 51,
   "metadata": {},
   "outputs": [],
   "source": [
    "#arguments\n",
    "\n",
    "def sapa_nama(nama):\n",
    "    print(\"Halo {}, apa kabar?\".format(nama))\n",
    "    print(\"Semangat ya ^^\")"
   ]
  },
  {
   "cell_type": "code",
   "execution_count": 52,
   "metadata": {},
   "outputs": [
    {
     "name": "stdout",
     "output_type": "stream",
     "text": [
      "Halo Han Ji Pyeong, apa kabar?\n",
      "Semangat ya ^^\n"
     ]
    }
   ],
   "source": [
    "sapa_nama(\"Han Ji Pyeong\")"
   ]
  },
  {
   "cell_type": "markdown",
   "metadata": {},
   "source": [
    "# Returns"
   ]
  },
  {
   "cell_type": "code",
   "execution_count": 54,
   "metadata": {},
   "outputs": [],
   "source": [
    "#returns\n",
    "\n",
    "def tambah_return(a,b):\n",
    "    return a+b"
   ]
  },
  {
   "cell_type": "code",
   "execution_count": 55,
   "metadata": {},
   "outputs": [
    {
     "data": {
      "text/plain": [
       "5"
      ]
     },
     "execution_count": 55,
     "metadata": {},
     "output_type": "execute_result"
    }
   ],
   "source": [
    "tambah_return(2,3)"
   ]
  },
  {
   "cell_type": "code",
   "execution_count": 56,
   "metadata": {},
   "outputs": [],
   "source": [
    "hasil = tambah_return(2,3)"
   ]
  },
  {
   "cell_type": "code",
   "execution_count": 57,
   "metadata": {},
   "outputs": [
    {
     "data": {
      "text/plain": [
       "5"
      ]
     },
     "execution_count": 57,
     "metadata": {},
     "output_type": "execute_result"
    }
   ],
   "source": [
    "hasil"
   ]
  },
  {
   "cell_type": "code",
   "execution_count": 58,
   "metadata": {},
   "outputs": [
    {
     "data": {
      "text/plain": [
       "15"
      ]
     },
     "execution_count": 58,
     "metadata": {},
     "output_type": "execute_result"
    }
   ],
   "source": [
    "hasil +10"
   ]
  },
  {
   "cell_type": "markdown",
   "metadata": {},
   "source": [
    "# Sekian\n",
    "\n",
    "Sekian dulu ya untuk sedikit sharing2 kali ini.. terima kasih ^^"
   ]
  },
  {
   "cell_type": "code",
   "execution_count": null,
   "metadata": {},
   "outputs": [],
   "source": []
  }
 ],
 "metadata": {
  "kernelspec": {
   "display_name": "Python 3",
   "language": "python",
   "name": "python3"
  },
  "language_info": {
   "codemirror_mode": {
    "name": "ipython",
    "version": 3
   },
   "file_extension": ".py",
   "mimetype": "text/x-python",
   "name": "python",
   "nbconvert_exporter": "python",
   "pygments_lexer": "ipython3",
   "version": "3.7.6"
  }
 },
 "nbformat": 4,
 "nbformat_minor": 4
}
